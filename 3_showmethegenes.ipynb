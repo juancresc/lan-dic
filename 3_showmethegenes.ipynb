{
 "cells": [
  {
   "cell_type": "code",
   "execution_count": 2,
   "metadata": {},
   "outputs": [],
   "source": [
    "import pandas as pd"
   ]
  },
  {
   "cell_type": "code",
   "execution_count": 8,
   "metadata": {},
   "outputs": [
    {
     "name": "stdout",
     "output_type": "stream",
     "text": [
      "338361\n"
     ]
    },
    {
     "data": {
      "text/html": [
       "<div>\n",
       "<style scoped>\n",
       "    .dataframe tbody tr th:only-of-type {\n",
       "        vertical-align: middle;\n",
       "    }\n",
       "\n",
       "    .dataframe tbody tr th {\n",
       "        vertical-align: top;\n",
       "    }\n",
       "\n",
       "    .dataframe thead th {\n",
       "        text-align: right;\n",
       "    }\n",
       "</style>\n",
       "<table border=\"1\" class=\"dataframe\">\n",
       "  <thead>\n",
       "    <tr style=\"text-align: right;\">\n",
       "      <th></th>\n",
       "      <th>gene</th>\n",
       "      <th>count1</th>\n",
       "      <th>count2</th>\n",
       "      <th>count3</th>\n",
       "    </tr>\n",
       "  </thead>\n",
       "  <tbody>\n",
       "    <tr>\n",
       "      <th>228621</th>\n",
       "      <td>TRIDC5Bv2G127940</td>\n",
       "      <td>0</td>\n",
       "      <td>0</td>\n",
       "      <td>0</td>\n",
       "    </tr>\n",
       "    <tr>\n",
       "      <th>82271</th>\n",
       "      <td>TRIDC2Bv2G124350</td>\n",
       "      <td>0</td>\n",
       "      <td>0</td>\n",
       "      <td>0</td>\n",
       "    </tr>\n",
       "    <tr>\n",
       "      <th>164764</th>\n",
       "      <td>TRIDC4Av2G177980</td>\n",
       "      <td>0</td>\n",
       "      <td>0</td>\n",
       "      <td>0</td>\n",
       "    </tr>\n",
       "  </tbody>\n",
       "</table>\n",
       "</div>"
      ],
      "text/plain": [
       "                    gene  count1  count2  count3\n",
       "228621  TRIDC5Bv2G127940       0       0       0\n",
       "82271   TRIDC2Bv2G124350       0       0       0\n",
       "164764  TRIDC4Av2G177980       0       0       0"
      ]
     },
     "execution_count": 8,
     "metadata": {},
     "output_type": "execute_result"
    }
   ],
   "source": [
    "exists = False\n",
    "for i in range(1,4):\n",
    "    df = pd.read_csv('data/res/' + str(i) + '_landic_un_zavitan.counts.txt', sep='\\t', comment='_', header=None)\n",
    "    df.columns = ['gene','count' + str(i)]\n",
    "    if not exists:\n",
    "        exists = True\n",
    "        df_res = df\n",
    "    else:\n",
    "        df_res = pd.merge(df_res, df, on='gene')\n",
    "print(len(df_res.index))\n",
    "df_res.sample(3)"
   ]
  },
  {
   "cell_type": "code",
   "execution_count": 9,
   "metadata": {},
   "outputs": [],
   "source": [
    "df_res = df_res[df_res.count1 + df_res.count2 + df_res.count3 > 0]"
   ]
  },
  {
   "cell_type": "code",
   "execution_count": 10,
   "metadata": {},
   "outputs": [
    {
     "name": "stdout",
     "output_type": "stream",
     "text": [
      "31077\n"
     ]
    },
    {
     "data": {
      "text/html": [
       "<div>\n",
       "<style scoped>\n",
       "    .dataframe tbody tr th:only-of-type {\n",
       "        vertical-align: middle;\n",
       "    }\n",
       "\n",
       "    .dataframe tbody tr th {\n",
       "        vertical-align: top;\n",
       "    }\n",
       "\n",
       "    .dataframe thead th {\n",
       "        text-align: right;\n",
       "    }\n",
       "</style>\n",
       "<table border=\"1\" class=\"dataframe\">\n",
       "  <thead>\n",
       "    <tr style=\"text-align: right;\">\n",
       "      <th></th>\n",
       "      <th>gene</th>\n",
       "      <th>count1</th>\n",
       "      <th>count2</th>\n",
       "      <th>count3</th>\n",
       "    </tr>\n",
       "  </thead>\n",
       "  <tbody>\n",
       "    <tr>\n",
       "      <th>174112</th>\n",
       "      <td>TRIDC4Bv2G029620</td>\n",
       "      <td>2</td>\n",
       "      <td>1</td>\n",
       "      <td>0</td>\n",
       "    </tr>\n",
       "    <tr>\n",
       "      <th>12826</th>\n",
       "      <td>TRIDC1Av2G128270</td>\n",
       "      <td>9</td>\n",
       "      <td>7</td>\n",
       "      <td>4</td>\n",
       "    </tr>\n",
       "    <tr>\n",
       "      <th>141067</th>\n",
       "      <td>TRIDC3Bv2G193790</td>\n",
       "      <td>2</td>\n",
       "      <td>2</td>\n",
       "      <td>0</td>\n",
       "    </tr>\n",
       "  </tbody>\n",
       "</table>\n",
       "</div>"
      ],
      "text/plain": [
       "                    gene  count1  count2  count3\n",
       "174112  TRIDC4Bv2G029620       2       1       0\n",
       "12826   TRIDC1Av2G128270       9       7       4\n",
       "141067  TRIDC3Bv2G193790       2       2       0"
      ]
     },
     "execution_count": 10,
     "metadata": {},
     "output_type": "execute_result"
    }
   ],
   "source": [
    "print(len(df_res.index))\n",
    "df_res.sample(3)"
   ]
  },
  {
   "cell_type": "code",
   "execution_count": 15,
   "metadata": {},
   "outputs": [
    {
     "name": "stdout",
     "output_type": "stream",
     "text": [
      "2603098\n"
     ]
    },
    {
     "data": {
      "text/html": [
       "<div>\n",
       "<style scoped>\n",
       "    .dataframe tbody tr th:only-of-type {\n",
       "        vertical-align: middle;\n",
       "    }\n",
       "\n",
       "    .dataframe tbody tr th {\n",
       "        vertical-align: top;\n",
       "    }\n",
       "\n",
       "    .dataframe thead th {\n",
       "        text-align: right;\n",
       "    }\n",
       "</style>\n",
       "<table border=\"1\" class=\"dataframe\">\n",
       "  <thead>\n",
       "    <tr style=\"text-align: right;\">\n",
       "      <th></th>\n",
       "      <th>seqname</th>\n",
       "      <th>source</th>\n",
       "      <th>feature</th>\n",
       "      <th>start</th>\n",
       "      <th>end</th>\n",
       "      <th>score</th>\n",
       "      <th>strand</th>\n",
       "      <th>frame</th>\n",
       "      <th>attribute</th>\n",
       "    </tr>\n",
       "  </thead>\n",
       "  <tbody>\n",
       "    <tr>\n",
       "      <th>1479611</th>\n",
       "      <td>chr4B</td>\n",
       "      <td>PGSB_Mar2017</td>\n",
       "      <td>CDS</td>\n",
       "      <td>654087913</td>\n",
       "      <td>654088103</td>\n",
       "      <td>.</td>\n",
       "      <td>-</td>\n",
       "      <td>2</td>\n",
       "      <td>Parent=TRIDC4Bv2G184130.1</td>\n",
       "    </tr>\n",
       "    <tr>\n",
       "      <th>103172</th>\n",
       "      <td>chr1A</td>\n",
       "      <td>PGSB_Mar2017</td>\n",
       "      <td>gene</td>\n",
       "      <td>441814863</td>\n",
       "      <td>441827322</td>\n",
       "      <td>.</td>\n",
       "      <td>-</td>\n",
       "      <td>.</td>\n",
       "      <td>ID=TRIDC1Av2G142830;primconf=HC</td>\n",
       "    </tr>\n",
       "    <tr>\n",
       "      <th>998115</th>\n",
       "      <td>chr3B</td>\n",
       "      <td>PGSB_Mar2017</td>\n",
       "      <td>mRNA</td>\n",
       "      <td>231990374</td>\n",
       "      <td>231990910</td>\n",
       "      <td>.</td>\n",
       "      <td>-</td>\n",
       "      <td>.</td>\n",
       "      <td>ID=TRIDC3Bv2G074050.1;Parent=TRIDC3Bv2G074050;...</td>\n",
       "    </tr>\n",
       "  </tbody>\n",
       "</table>\n",
       "</div>"
      ],
      "text/plain": [
       "        seqname        source feature      start        end score strand  \\\n",
       "1479611   chr4B  PGSB_Mar2017     CDS  654087913  654088103     .      -   \n",
       "103172    chr1A  PGSB_Mar2017    gene  441814863  441827322     .      -   \n",
       "998115    chr3B  PGSB_Mar2017    mRNA  231990374  231990910     .      -   \n",
       "\n",
       "        frame                                          attribute  \n",
       "1479611     2                          Parent=TRIDC4Bv2G184130.1  \n",
       "103172      .                    ID=TRIDC1Av2G142830;primconf=HC  \n",
       "998115      .  ID=TRIDC3Bv2G074050.1;Parent=TRIDC3Bv2G074050;...  "
      ]
     },
     "execution_count": 15,
     "metadata": {},
     "output_type": "execute_result"
    }
   ],
   "source": [
    "df_ann = pd.read_csv('data/genomes/zavitan.gff3', header=None, comment='#', sep='\\t')\n",
    "df_ann.columns = ['seqname' , 'source' , 'feature' , 'start' , 'end' , 'score' , 'strand' , 'frame' , 'attribute']\n",
    "print(len(df_ann.index))\n",
    "df_ann.sample(3)"
   ]
  },
  {
   "cell_type": "code",
   "execution_count": 16,
   "metadata": {},
   "outputs": [
    {
     "name": "stdout",
     "output_type": "stream",
     "text": [
      "338361\n"
     ]
    },
    {
     "data": {
      "text/html": [
       "<div>\n",
       "<style scoped>\n",
       "    .dataframe tbody tr th:only-of-type {\n",
       "        vertical-align: middle;\n",
       "    }\n",
       "\n",
       "    .dataframe tbody tr th {\n",
       "        vertical-align: top;\n",
       "    }\n",
       "\n",
       "    .dataframe thead th {\n",
       "        text-align: right;\n",
       "    }\n",
       "</style>\n",
       "<table border=\"1\" class=\"dataframe\">\n",
       "  <thead>\n",
       "    <tr style=\"text-align: right;\">\n",
       "      <th></th>\n",
       "      <th>seqname</th>\n",
       "      <th>source</th>\n",
       "      <th>feature</th>\n",
       "      <th>start</th>\n",
       "      <th>end</th>\n",
       "      <th>score</th>\n",
       "      <th>strand</th>\n",
       "      <th>frame</th>\n",
       "      <th>attribute</th>\n",
       "    </tr>\n",
       "  </thead>\n",
       "  <tbody>\n",
       "    <tr>\n",
       "      <th>2417861</th>\n",
       "      <td>chr7B</td>\n",
       "      <td>PGSB_Mar2017</td>\n",
       "      <td>gene</td>\n",
       "      <td>144869555</td>\n",
       "      <td>144869863</td>\n",
       "      <td>.</td>\n",
       "      <td>-</td>\n",
       "      <td>.</td>\n",
       "      <td>ID=TRIDC7Bv2G047630;primconf=LC</td>\n",
       "    </tr>\n",
       "    <tr>\n",
       "      <th>1504637</th>\n",
       "      <td>chr5A</td>\n",
       "      <td>PGSB_Mar2017</td>\n",
       "      <td>gene</td>\n",
       "      <td>48910823</td>\n",
       "      <td>48911131</td>\n",
       "      <td>.</td>\n",
       "      <td>+</td>\n",
       "      <td>.</td>\n",
       "      <td>ID=TRIDC5Av2G021400;primconf=LC</td>\n",
       "    </tr>\n",
       "    <tr>\n",
       "      <th>1746186</th>\n",
       "      <td>chr5B</td>\n",
       "      <td>PGSB_Mar2017</td>\n",
       "      <td>gene</td>\n",
       "      <td>278572246</td>\n",
       "      <td>278572932</td>\n",
       "      <td>.</td>\n",
       "      <td>+</td>\n",
       "      <td>.</td>\n",
       "      <td>ID=TRIDC5Bv2G082340;primconf=HC</td>\n",
       "    </tr>\n",
       "  </tbody>\n",
       "</table>\n",
       "</div>"
      ],
      "text/plain": [
       "        seqname        source feature      start        end score strand  \\\n",
       "2417861   chr7B  PGSB_Mar2017    gene  144869555  144869863     .      -   \n",
       "1504637   chr5A  PGSB_Mar2017    gene   48910823   48911131     .      +   \n",
       "1746186   chr5B  PGSB_Mar2017    gene  278572246  278572932     .      +   \n",
       "\n",
       "        frame                        attribute  \n",
       "2417861     .  ID=TRIDC7Bv2G047630;primconf=LC  \n",
       "1504637     .  ID=TRIDC5Av2G021400;primconf=LC  \n",
       "1746186     .  ID=TRIDC5Bv2G082340;primconf=HC  "
      ]
     },
     "execution_count": 16,
     "metadata": {},
     "output_type": "execute_result"
    }
   ],
   "source": [
    "df_ann = df_ann[df_ann.feature == 'gene']\n",
    "print(len(df_ann.index))\n",
    "df_ann.sample(3)"
   ]
  },
  {
   "cell_type": "code",
   "execution_count": null,
   "metadata": {},
   "outputs": [],
   "source": [
    "#clean df_ann to get gene name, chr and positions"
   ]
  },
  {
   "cell_type": "code",
   "execution_count": null,
   "metadata": {},
   "outputs": [],
   "source": [
    "#merge counts and position so we can check in IGV"
   ]
  },
  {
   "cell_type": "code",
   "execution_count": null,
   "metadata": {},
   "outputs": [],
   "source": []
  },
  {
   "cell_type": "code",
   "execution_count": null,
   "metadata": {},
   "outputs": [],
   "source": []
  }
 ],
 "metadata": {
  "kernelspec": {
   "display_name": "Python 3",
   "language": "python",
   "name": "python3"
  },
  "language_info": {
   "codemirror_mode": {
    "name": "ipython",
    "version": 3
   },
   "file_extension": ".py",
   "mimetype": "text/x-python",
   "name": "python",
   "nbconvert_exporter": "python",
   "pygments_lexer": "ipython3",
   "version": "3.6.5"
  }
 },
 "nbformat": 4,
 "nbformat_minor": 2
}
